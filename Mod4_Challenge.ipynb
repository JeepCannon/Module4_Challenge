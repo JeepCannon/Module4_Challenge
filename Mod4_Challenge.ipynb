{
 "cells": [
  {
   "cell_type": "code",
   "execution_count": 19,
   "id": "cf9c8cfe-177e-4de8-9d16-e0817f8d7dc2",
   "metadata": {},
   "outputs": [],
   "source": [
    "import requests\n",
    "from dotenv import load_dotenv\n",
    "import os \n",
    "import csv\n",
    "from pathlib import Path\n",
    "import json\n",
    "import pandas as pd"
   ]
  },
  {
   "cell_type": "code",
   "execution_count": null,
   "id": "1e10bc75-f0bf-4fc2-9ae9-8ddd918635d7",
   "metadata": {},
   "outputs": [
    {
     "name": "stdout",
     "output_type": "stream",
     "text": [
      "            Date  SOROS FUND MANAGEMENT LLC  PAULSON & CO.INC.   \\\n",
      "0     2015-03-02                        NaN                 NaN   \n",
      "1     2015-03-03                  -0.001266           -0.004981   \n",
      "2     2015-03-04                   0.002230            0.003241   \n",
      "3     2015-03-05                   0.004016            0.004076   \n",
      "4     2015-03-06                  -0.007905           -0.003574   \n",
      "...          ...                        ...                 ...   \n",
      "1055  2019-04-25                  -0.000285           -0.001291   \n",
      "1056  2019-04-26                   0.008149            0.009162   \n",
      "1057  2019-04-29                   0.001254            0.002719   \n",
      "1058  2019-04-30                  -0.001295           -0.002211   \n",
      "1059  2019-05-01                  -0.005847           -0.001341   \n",
      "\n",
      "      TIGER GLOBAL MANAGEMENT LLC  BERKSHIRE HATHAWAY INC  \n",
      "0                             NaN                     NaN  \n",
      "1                       -0.000496               -0.006569  \n",
      "2                       -0.002534                0.004213  \n",
      "3                        0.002355                0.006726  \n",
      "4                       -0.008481               -0.013098  \n",
      "...                           ...                     ...  \n",
      "1055                    -0.005153                0.004848  \n",
      "1056                     0.012355                0.010434  \n",
      "1057                     0.006251                0.005223  \n",
      "1058                    -0.000259               -0.003702  \n",
      "1059                    -0.007936               -0.007833  \n",
      "\n",
      "[1060 rows x 5 columns]\n"
     ]
    },
    {
     "data": {
      "text/plain": [
       "pandas.core.frame.DataFrame"
      ]
     },
     "execution_count": 26,
     "metadata": {},
     "output_type": "execute_result"
    }
   ],
   "source": [
    "# Use Pandas to read the following CSV files into DataFrames. Be sure to convert the dates to a DateTimeIndex.\n",
    "# whale_returns.csv: Contains returns of some famous \"whale\" investors' portfolios.\n",
    "# algo_returns.csv: Contains returns from the in-house trading algorithms from your company.\n",
    "# sp500_history.csv: Contains historical closing prices of the S&P 500 Index.\n",
    "\n",
    "\n",
    "csvpath = Path('./Starter_Code/Resources/whale_returns.csv')\n",
    "Whale_data = pd.read_csv(csvpath)\n",
    "print(Whale_data)\n",
    "type(Whale_data)"
   ]
  },
  {
   "cell_type": "markdown",
   "id": "45ab1218-a91f-49ab-9364-a4399eccf12c",
   "metadata": {},
   "source": [
    "### 2. Identify and remove null values."
   ]
  },
  {
   "cell_type": "code",
   "execution_count": null,
   "id": "4256c41f-fa53-44c8-b8b3-5fd342deb417",
   "metadata": {},
   "outputs": [],
   "source": []
  },
  {
   "cell_type": "markdown",
   "id": "53a41d5f-88f3-4c7e-97c6-ac2d5281cf53",
   "metadata": {},
   "source": [
    "### 3.Remove any non-numeric values (e.g., dollar signs) from the DataFrames and convert the data types as needed.\n",
    "\n"
   ]
  },
  {
   "cell_type": "code",
   "execution_count": null,
   "id": "688e4a74-da68-4bad-a01f-1f5e0d180d67",
   "metadata": {},
   "outputs": [],
   "source": []
  },
  {
   "cell_type": "markdown",
   "id": "f0c40c93-6970-4adf-b85d-3845feee78b0",
   "metadata": {},
   "source": [
    "### 4.The whale portfolios and algorithmic portfolio CSV files contain daily returns, but the S&P 500 CSV file contains closing prices.\n",
    "### Convert the S&P 500 closing prices to daily returns.\n"
   ]
  },
  {
   "cell_type": "markdown",
   "id": "9fdfb108-f3ab-4531-8aa5-8a93f16062bb",
   "metadata": {},
   "source": [
    "### 5.Join Whale Returns, Algorithmic Returns, and the S&P 500 Returns into a single DataFrame with columns for each portfolio's returns."
   ]
  },
  {
   "cell_type": "code",
   "execution_count": 27,
   "id": "da2cc2a8-4738-4aa0-88b1-6077276facd9",
   "metadata": {},
   "outputs": [],
   "source": [
    "# Perform Quantitative Analysis\n",
    "# Analyze the data to determine if any of the portfolios outperform the stock market (that is, the S&P 500). \n",
    "# Specifically, you will do a performance analysis and a risk analysis, and then calculate rolling statistics and Sharpe ratios."
   ]
  },
  {
   "cell_type": "code",
   "execution_count": null,
   "id": "4aea136b-2e8e-4ca3-ba95-a83b1248b3a3",
   "metadata": {},
   "outputs": [],
   "source": [
    "# 1.Calculate and plot daily returns of all portfolios."
   ]
  },
  {
   "cell_type": "code",
   "execution_count": null,
   "id": "96845e3a-a95e-45db-b9c9-c523e3c7768e",
   "metadata": {},
   "outputs": [],
   "source": [
    "# 2.Calculate and plot cumulative returns for all portfolios. Does any portfolio outperform the S&P 500?"
   ]
  },
  {
   "cell_type": "markdown",
   "id": "51642661-afb5-47c0-9c29-300e620f906c",
   "metadata": {},
   "source": [
    "###"
   ]
  },
  {
   "cell_type": "code",
   "execution_count": null,
   "id": "0f2cfe84-424a-4971-b954-93df24ae5cd3",
   "metadata": {},
   "outputs": [],
   "source": []
  },
  {
   "cell_type": "markdown",
   "id": "91b17af3-9b73-4df9-9179-f172353c1339",
   "metadata": {},
   "source": []
  },
  {
   "cell_type": "code",
   "execution_count": null,
   "id": "a251782b-7cab-43f2-9234-ca9820d7c38f",
   "metadata": {},
   "outputs": [],
   "source": []
  },
  {
   "cell_type": "code",
   "execution_count": null,
   "id": "5cee5cac-e6bb-480d-83d3-40412fc65bf8",
   "metadata": {},
   "outputs": [],
   "source": []
  },
  {
   "cell_type": "code",
   "execution_count": null,
   "id": "8c835e2a-8dc0-4fb8-9983-693c95111bde",
   "metadata": {},
   "outputs": [],
   "source": []
  }
 ],
 "metadata": {
  "kernelspec": {
   "display_name": "Python 3 (ipykernel)",
   "language": "python",
   "name": "python3"
  },
  "language_info": {
   "codemirror_mode": {
    "name": "ipython",
    "version": 3
   },
   "file_extension": ".py",
   "mimetype": "text/x-python",
   "name": "python",
   "nbconvert_exporter": "python",
   "pygments_lexer": "ipython3",
   "version": "3.7.13"
  }
 },
 "nbformat": 4,
 "nbformat_minor": 5
}
